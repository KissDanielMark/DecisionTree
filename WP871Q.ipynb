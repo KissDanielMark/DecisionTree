{
 "cells": [
  {
   "cell_type": "code",
   "execution_count": null,
   "metadata": {},
   "outputs": [],
   "source": [
    "import numpy as np\n",
    "\n",
    "class DecisionTree:\n",
    "    def  __init__(self, max_depth=5, min_samples_split=2, min_samples_leaf=5, random_state=0):\n",
    "        self.max_depth = max_depth\n",
    "        self.min_samples_split = min_samples_split\n",
    "        self.min_samples_leaf = min_samples_leaf\n",
    "        self.random_state = random_state #seed\n",
    "        self.tree = None   # tree is a dictionary \n",
    "\n",
    "    def fit(self, X, y):\n",
    "        #tbp\n",
    "        #döntési fa tanítása\n",
    "        return None\n",
    "    \n",
    "    def predict(self, X):\n",
    "        #tbp\n",
    "        #regresszios ertek meghatarozasa\n",
    "        return None\n",
    "    \n",
    "    def print():\n",
    "        #tbp\n",
    "        #döntési fa ábrázolása\n",
    "        return None"
   ]
  }
 ],
 "metadata": {
  "language_info": {
   "name": "python"
  },
  "orig_nbformat": 4
 },
 "nbformat": 4,
 "nbformat_minor": 2
}
