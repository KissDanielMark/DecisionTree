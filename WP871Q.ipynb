{
 "cells": [
  {
   "cell_type": "code",
   "execution_count": null,
   "metadata": {},
   "outputs": [],
   "source": [
    "import numpy as np\n",
    "from sklearn.tree import plot_tree\n",
    "import matplotlib.pyplot as plt\n",
    "\n",
    "class DecisionTree:\n",
    "    def  __init__(self, max_depth=5, min_samples_split=2, min_samples_leaf=5, random_state=0):\n",
    "        self.max_depth = max_depth\n",
    "        self.min_samples_split = min_samples_split\n",
    "        self.min_samples_leaf = min_samples_leaf\n",
    "        self.random_state = random_state #seed\n",
    "        self.tree = None   # tree is a dictionary \n",
    "\n",
    "    def fit(self, X, y):\n",
    "        #tbp\n",
    "        #döntési fa tanítása\n",
    "        return None\n",
    "    \n",
    "    def predict(self, X):\n",
    "        #tbp\n",
    "        #regresszios ertek meghatarozasa\n",
    "        return None\n",
    "    \n",
    "    def print():\n",
    "        #döntési fa ábrázolása\n",
    "        #tbp\n",
    "        return None"
   ]
  },
  {
   "cell_type": "code",
   "execution_count": null,
   "metadata": {},
   "outputs": [],
   "source": [
    "from sklearn.datasets import load_wine\n",
    "from sklearn.model_selection import train_test_split\n",
    "\n",
    "#Minta adatforrás\n",
    "wine = load_wine()\n",
    "X = wine.data # adatok\n",
    "y = wine.target # címkék/célváltozók\n",
    "\n",
    "#Adatok felosztása tanító és tesztelő halmazra\n",
    "X_train, X_test, y_train, y_test = train_test_split(X, y, test_size=0.2, random_state=0) # 80% tanító, 20% tesztelő\n",
    "\n",
    "#Döntési fa tanítása\n",
    "dt = DecisionTree()\n",
    "dt.fit(X_train, y_train)\n",
    "\n",
    "#Döntési fa kiértékelése\n",
    "y_pred = dt.predict(X_test)\n",
    "print(y_pred)\n",
    "\n",
    "dt.print()"
   ]
  }
 ],
 "metadata": {
  "language_info": {
   "name": "python"
  },
  "orig_nbformat": 4
 },
 "nbformat": 4,
 "nbformat_minor": 2
}
